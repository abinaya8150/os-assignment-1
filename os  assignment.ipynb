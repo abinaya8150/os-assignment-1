{
 "cells": [
  {
   "cell_type": "code",
   "execution_count": 1,
   "id": "274060a8",
   "metadata": {},
   "outputs": [
    {
     "name": "stdout",
     "output_type": "stream",
     "text": [
      "Union: {(2, 4), (5, 6), (7, 8), (1, 3), (3, 5)}\n",
      "Intersection: {(2, 4)}\n",
      "Maximum value: (7, 8)\n",
      "Minimum value: (1, 3)\n"
     ]
    }
   ],
   "source": [
    "# Define sets of tuples\n",
    "set1 = {(1, 3), (2, 4), (5, 6)}\n",
    "set2 = {(2, 4), (3, 5), (7, 8)}\n",
    "\n",
    "# Union of sets\n",
    "union_set = set1.union(set2)\n",
    "print(\"Union:\", union_set)\n",
    "\n",
    "# Intersection of sets\n",
    "intersection_set = set1.intersection(set2)\n",
    "print(\"Intersection:\", intersection_set)\n",
    "\n",
    "# Finding maximum and minimum values\n",
    "max_value = max(set1.union(set2), key=lambda x: x[1])\n",
    "min_value = min(set1.union(set2), key=lambda x: x[0])\n",
    "print(\"Maximum value:\", max_value)\n",
    "print(\"Minimum value:\", min_value)\n"
   ]
  },
  {
   "cell_type": "code",
   "execution_count": null,
   "id": "2aa9b0f4",
   "metadata": {},
   "outputs": [],
   "source": []
  }
 ],
 "metadata": {
  "kernelspec": {
   "display_name": "Python 3 (ipykernel)",
   "language": "python",
   "name": "python3"
  },
  "language_info": {
   "codemirror_mode": {
    "name": "ipython",
    "version": 3
   },
   "file_extension": ".py",
   "mimetype": "text/x-python",
   "name": "python",
   "nbconvert_exporter": "python",
   "pygments_lexer": "ipython3",
   "version": "3.11.5"
  }
 },
 "nbformat": 4,
 "nbformat_minor": 5
}
